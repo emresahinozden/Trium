{
 "cells": [
  {
   "cell_type": "markdown",
   "metadata": {},
   "source": [
    "# Python Beginner Tutorials\n",
    "\n",
    "#### Preparing this introductionary documeny, we benefited largely from [holypython](https://holypython.com/)\n",
    "\n",
    "<img src=\"python.jpg\">"
   ]
  },
  {
   "cell_type": "markdown",
   "metadata": {},
   "source": [
    "![divider](divider.png)\n",
    "### Print Function\n",
    "\n",
    "__print()__ is used to display information to the user or programmer. \n",
    "It doesn’t change or affect values, variables, functions in any way \n",
    "and simply displays what you tell it to display.\n",
    "\n",
    "It can be very useful for the programmer to check certain values, \n",
    "make reminders or show messages to the user at different stages of the coding process."
   ]
  },
  {
   "cell_type": "code",
   "execution_count": 1,
   "metadata": {},
   "outputs": [
    {
     "name": "stdout",
     "output_type": "stream",
     "text": [
      "Hello, World!\n"
     ]
    }
   ],
   "source": [
    "print(\"Hello, World!\")"
   ]
  },
  {
   "cell_type": "markdown",
   "metadata": {},
   "source": [
    "As you can see, text in print function needs to be in quotes. \n",
    "Whenever you are printing a piece of text, this is the syntax you need to follow.\n",
    "\n",
    "If you are printing a variable, then you can’t use quotes \n",
    "and you need to type the variable name only."
   ]
  },
  {
   "cell_type": "code",
   "execution_count": 2,
   "metadata": {},
   "outputs": [
    {
     "name": "stdout",
     "output_type": "stream",
     "text": [
      "How about this?\n"
     ]
    }
   ],
   "source": [
    "my_message = \"How about this?\"\n",
    "print(my_message)"
   ]
  },
  {
   "cell_type": "markdown",
   "metadata": {},
   "source": [
    "#### Some use cases:\n"
   ]
  },
  {
   "cell_type": "code",
   "execution_count": 3,
   "metadata": {},
   "outputs": [
    {
     "name": "stdout",
     "output_type": "stream",
     "text": [
      "Hello My name is Good Boy\n",
      "Model S--Model 3\n",
      "100 200|"
     ]
    }
   ],
   "source": [
    "print(\"Hello\" , \"My name is\" , \"Good Boy\")\n",
    "print(\"Model S\" , \"Model 3\" , sep=\"--\")\n",
    "print(\"100\" , \"200\" , end=\"|\")"
   ]
  },
  {
   "cell_type": "markdown",
   "metadata": {},
   "source": [
    "![divider](divider.png)\n",
    "### Python as a Calculator\n",
    "\n",
    "By using simple characters, we can use [Python as a calculator](https://docs.python.org/3/tutorial/introduction.html):"
   ]
  },
  {
   "cell_type": "code",
   "execution_count": 4,
   "metadata": {},
   "outputs": [
    {
     "name": "stdout",
     "output_type": "stream",
     "text": [
      "4\n",
      "20\n",
      "5.0\n",
      "5.666666666666667\n",
      "5\n",
      "2\n",
      "17\n",
      "25\n",
      "128\n"
     ]
    }
   ],
   "source": [
    "print(2 + 2)\n",
    "print(50 - 5*6)\n",
    "print((50 - 5*6) / 4) # division always returns a floating point number\n",
    "print(17 / 3)         # classic division returns a float\n",
    "print(17 // 3)        # floor division discards the fractional part\n",
    "print(17 % 3)         # the % operator returns the remainder of the division\n",
    "print(5 * 3 + 2)      # result * divisor + remainder\n",
    "print(5 ** 2)         # 5 squared\n",
    "print(2 ** 7)         # 2 to the power of 7"
   ]
  },
  {
   "cell_type": "markdown",
   "metadata": {},
   "source": [
    "![divider](divider.png)\n",
    "### Variables\n",
    "Two reasons to use variables: <br>\n",
    "* Data is too long <br>\n",
    "* You need to refer to your data multiple times\n",
    "\n",
    "\n",
    "To assign a value: variable is located on the left of the equation and data on the right of it.\n",
    "\n",
    "You can start a variable name with a letter or underscore (_), but not with a number\n",
    "\n",
    "You can’t use symbols (except underscore) or blanks in a variable name."
   ]
  },
  {
   "cell_type": "code",
   "execution_count": 5,
   "metadata": {},
   "outputs": [],
   "source": [
    "USD_TL = 6.85\n",
    "EUR_TL = 7.93\n",
    "USD_balance = 2500\n",
    "EUR_balance = 4400"
   ]
  },
  {
   "cell_type": "markdown",
   "metadata": {},
   "source": [
    "We can calculate the Turkish Liras equivalent of EUR and USD accounts:"
   ]
  },
  {
   "cell_type": "code",
   "execution_count": 6,
   "metadata": {},
   "outputs": [
    {
     "name": "stdout",
     "output_type": "stream",
     "text": [
      "52017.0\n"
     ]
    }
   ],
   "source": [
    "TL_total = USD_TL * USD_balance + EUR_TL * EUR_balance\n",
    "print(TL_total)"
   ]
  },
  {
   "cell_type": "markdown",
   "metadata": {},
   "source": [
    "Let's do one with strings:"
   ]
  },
  {
   "cell_type": "code",
   "execution_count": 7,
   "metadata": {},
   "outputs": [
    {
     "name": "stdout",
     "output_type": "stream",
     "text": [
      "His name is John .He is a English Terrier .\n"
     ]
    }
   ],
   "source": [
    "dogsName = \"John\"\n",
    "dogsKind = \"English Terrier\"\n",
    "\n",
    "print(\"His name is\" , dogsName , \".He is a\" , dogsKind, \".\")"
   ]
  },
  {
   "cell_type": "markdown",
   "metadata": {},
   "source": [
    "There are some main practices in naming variables with multiple terms.\n",
    "\n",
    "__camelCase__, capitalizing all words except the first one and removing the space:"
   ]
  },
  {
   "cell_type": "code",
   "execution_count": 8,
   "metadata": {},
   "outputs": [],
   "source": [
    "dogsName = \"John\""
   ]
  },
  {
   "cell_type": "markdown",
   "metadata": {},
   "source": [
    "__PascalCase__, capitalizing all words and removing the space:"
   ]
  },
  {
   "cell_type": "code",
   "execution_count": 9,
   "metadata": {},
   "outputs": [],
   "source": [
    "DogsName = \"John\""
   ]
  },
  {
   "cell_type": "markdown",
   "metadata": {},
   "source": [
    "__snake_case__, replacing each space with an underscore:"
   ]
  },
  {
   "cell_type": "code",
   "execution_count": 10,
   "metadata": {},
   "outputs": [],
   "source": [
    "dogs_name = \"John\""
   ]
  },
  {
   "cell_type": "markdown",
   "metadata": {},
   "source": [
    "You can assign multiple variables in one line. <br>But it is not a common practice"
   ]
  },
  {
   "cell_type": "code",
   "execution_count": 11,
   "metadata": {},
   "outputs": [
    {
     "name": "stdout",
     "output_type": "stream",
     "text": [
      "Hello 55 21.0765\n"
     ]
    }
   ],
   "source": [
    "i, j, k = \"Hello\", 55, 21.0765\n",
    "print(i, j, k)"
   ]
  },
  {
   "cell_type": "markdown",
   "metadata": {},
   "source": [
    "![divider](divider.png)\n",
    "### Data Types and Type Conversions\n",
    "Python has built-in types, these types are called scalars and meant to handle\n",
    "with single value types:\n",
    "\n",
    "* numerical data\n",
    "* strings\n",
    "* boolean(True,False)\n",
    "* date and time\n",
    "\n",
    "We will cover _numerical data_ and _strings_ in the chapter."
   ]
  },
  {
   "cell_type": "markdown",
   "metadata": {},
   "source": [
    "int : this type of data consists of numbers and particularly integers."
   ]
  },
  {
   "cell_type": "code",
   "execution_count": 12,
   "metadata": {},
   "outputs": [],
   "source": [
    "horse_power = 330"
   ]
  },
  {
   "cell_type": "markdown",
   "metadata": {},
   "source": [
    "float : this type of data refers to numbers with decimals"
   ]
  },
  {
   "cell_type": "code",
   "execution_count": 13,
   "metadata": {},
   "outputs": [],
   "source": [
    "milage_per_gallon = 20.75"
   ]
  },
  {
   "cell_type": "markdown",
   "metadata": {},
   "source": [
    "str : standing for string, an str type of variable keeps data as a text string."
   ]
  },
  {
   "cell_type": "code",
   "execution_count": 14,
   "metadata": {},
   "outputs": [],
   "source": [
    "model_year = \"Ford Mustang Convertible 68\""
   ]
  },
  {
   "cell_type": "markdown",
   "metadata": {},
   "source": [
    "In python, you don't need to define the variable type beforehand, you just assign it"
   ]
  },
  {
   "cell_type": "code",
   "execution_count": 15,
   "metadata": {},
   "outputs": [],
   "source": [
    "price = 38995"
   ]
  },
  {
   "cell_type": "markdown",
   "metadata": {},
   "source": [
    "The variable will be assigned to best-fit type. We can check the type of variable:"
   ]
  },
  {
   "cell_type": "code",
   "execution_count": 16,
   "metadata": {},
   "outputs": [
    {
     "name": "stdout",
     "output_type": "stream",
     "text": [
      "<class 'int'>\n"
     ]
    }
   ],
   "source": [
    "print(type(price))"
   ]
  },
  {
   "cell_type": "markdown",
   "metadata": {},
   "source": [
    "You see that price variable could also be expressed as a float type, and even as string.<br>\n",
    "We can change type of a variable to some extent.\n",
    "\n",
    "You can convert int to float, and float to int (may cause information loss) <br>\n",
    "You can convert int or float types into str type as str can have any letter, number or symbols in them. <br>\n",
    "You can’t convert a string consisting of letters into integer or float type.\n",
    "\n",
    "We use _int()_, _float()_, _str()_ functions to convert variables to corresponding types"
   ]
  },
  {
   "cell_type": "code",
   "execution_count": 17,
   "metadata": {},
   "outputs": [
    {
     "name": "stdout",
     "output_type": "stream",
     "text": [
      "<class 'int'>\n",
      "6\n",
      "<class 'float'>\n",
      "6.0\n"
     ]
    }
   ],
   "source": [
    "transmission = 6\n",
    "print(type(transmission))\n",
    "print(transmission)\n",
    "\n",
    "transmission = float(transmission)\n",
    "print(type(transmission))\n",
    "print(transmission)"
   ]
  },
  {
   "cell_type": "markdown",
   "metadata": {},
   "source": [
    " Converting transmission to float is not a good idea, as there cannot be 5.7 speed tranmission"
   ]
  },
  {
   "cell_type": "code",
   "execution_count": 18,
   "metadata": {},
   "outputs": [
    {
     "name": "stdout",
     "output_type": "stream",
     "text": [
      "<class 'float'>\n",
      "20.75\n",
      "<class 'int'>\n",
      "20\n"
     ]
    }
   ],
   "source": [
    "print(type(milage_per_gallon))\n",
    "print(milage_per_gallon)\n",
    "\n",
    "milage_per_gallon = int(milage_per_gallon)\n",
    "print(type(milage_per_gallon))\n",
    "print(milage_per_gallon)"
   ]
  },
  {
   "cell_type": "markdown",
   "metadata": {},
   "source": [
    " Converting the milage_per_gallon to integer is not a good idea either, as we lose information"
   ]
  },
  {
   "cell_type": "code",
   "execution_count": 19,
   "metadata": {},
   "outputs": [
    {
     "name": "stdout",
     "output_type": "stream",
     "text": [
      "<class 'int'>\n",
      "38995\n",
      "<class 'str'>\n",
      "38995\n",
      "Cannot do calculation with string variable\n"
     ]
    }
   ],
   "source": [
    "print(type(price))\n",
    "print(price)\n",
    "\n",
    "price = str(price)\n",
    "print(type(price))\n",
    "print(price)\n",
    "\n",
    "try:\n",
    "    tax = price * .15\n",
    "except TypeError:\n",
    "    print(\"Cannot do calculation with string variable\")\n"
   ]
  },
  {
   "cell_type": "markdown",
   "metadata": {},
   "source": [
    "That is also a bad idea, now we cannot make calculations on price variable"
   ]
  },
  {
   "cell_type": "markdown",
   "metadata": {},
   "source": [
    "![divider](divider.png)\n",
    "### Data Structures\n",
    "\n",
    "You can create a list, tuple or dictionary by assigning simple symbols:\n",
    "\n",
    "list : [] <br>\n",
    "tuple : () <br>\n",
    "dictionary : {} \n",
    "\n",
    "__Lists:__ Contains values. It can be pretty much anything, numbers, strings, names, features etc.\n",
    "\n",
    "__Tuples:__ Tuples resemble lists very much however there is a catch. Once you create a tuple, unlike a list, you can’t change its values. In Python, fancy name for this is “mutability“.\n",
    "\n",
    "__Dictionaries:__ Dictionaries are key-value pairs. So a dictionary consists of two parts: keys and values. Unlike tuples and like lists, dictionaries are mutable, meaning their values can be changed, replaced and removed. \n",
    "\n",
    "You can also use list(), tuple(), and dict() functions to create list and dictionaries."
   ]
  },
  {
   "cell_type": "code",
   "execution_count": 20,
   "metadata": {},
   "outputs": [
    {
     "name": "stdout",
     "output_type": "stream",
     "text": [
      "[]\n",
      "<class 'list'>\n"
     ]
    }
   ],
   "source": [
    "my_list = []\n",
    "print(my_list)\n",
    "print(type(my_list))"
   ]
  },
  {
   "cell_type": "code",
   "execution_count": 21,
   "metadata": {},
   "outputs": [
    {
     "name": "stdout",
     "output_type": "stream",
     "text": [
      "[]\n",
      "<class 'list'>\n"
     ]
    }
   ],
   "source": [
    "my_list = list()\n",
    "print(my_list)\n",
    "print(type(my_list))"
   ]
  },
  {
   "cell_type": "code",
   "execution_count": 22,
   "metadata": {},
   "outputs": [
    {
     "name": "stdout",
     "output_type": "stream",
     "text": [
      "{}\n",
      "<class 'dict'>\n"
     ]
    }
   ],
   "source": [
    "my_dict = {}\n",
    "print(my_dict)\n",
    "print(type(my_dict))"
   ]
  },
  {
   "cell_type": "code",
   "execution_count": 23,
   "metadata": {},
   "outputs": [
    {
     "name": "stdout",
     "output_type": "stream",
     "text": [
      "{}\n",
      "<class 'dict'>\n"
     ]
    }
   ],
   "source": [
    "my_dict = dict()\n",
    "print(my_dict)\n",
    "print(type(my_dict))"
   ]
  },
  {
   "cell_type": "code",
   "execution_count": 24,
   "metadata": {},
   "outputs": [
    {
     "name": "stdout",
     "output_type": "stream",
     "text": [
      "()\n",
      "<class 'tuple'>\n"
     ]
    }
   ],
   "source": [
    "my_tuple = ()\n",
    "print(my_tuple)\n",
    "print(type(my_tuple))"
   ]
  },
  {
   "cell_type": "code",
   "execution_count": 25,
   "metadata": {},
   "outputs": [
    {
     "name": "stdout",
     "output_type": "stream",
     "text": [
      "()\n",
      "<class 'tuple'>\n"
     ]
    }
   ],
   "source": [
    "my_tuple = tuple()\n",
    "print(my_tuple)\n",
    "print(type(my_tuple))"
   ]
  },
  {
   "cell_type": "code",
   "execution_count": 26,
   "metadata": {},
   "outputs": [
    {
     "name": "stdout",
     "output_type": "stream",
     "text": [
      "['Orange', 'Bread', 'Meat', 'Milk']\n",
      "<class 'list'>\n"
     ]
    }
   ],
   "source": [
    "shopping_list = [\"Orange\", \"Bread\", \"Meat\", \"Milk\"]\n",
    "print(shopping_list)\n",
    "print(type(shopping_list))"
   ]
  },
  {
   "cell_type": "code",
   "execution_count": 27,
   "metadata": {},
   "outputs": [
    {
     "name": "stdout",
     "output_type": "stream",
     "text": [
      "{'Orange': 1, 'Bread': 2, 'Meat': 1.5, 'Milk': 3}\n",
      "<class 'dict'>\n"
     ]
    }
   ],
   "source": [
    "shopping_dict = {\"Orange\": 1, \"Bread\": 2, \"Meat\": 1.5, \"Milk\": 3}\n",
    "print(shopping_dict)\n",
    "print(type(shopping_dict))"
   ]
  },
  {
   "cell_type": "code",
   "execution_count": 28,
   "metadata": {},
   "outputs": [
    {
     "name": "stdout",
     "output_type": "stream",
     "text": [
      "['Apple', False, 666, 25.25]\n",
      "<class 'list'>\n"
     ]
    }
   ],
   "source": [
    "multi_list = [\"Apple\", False, 666, 25.25]\n",
    "print(multi_list)\n",
    "print(type(multi_list))"
   ]
  },
  {
   "cell_type": "code",
   "execution_count": 29,
   "metadata": {},
   "outputs": [
    {
     "name": "stdout",
     "output_type": "stream",
     "text": [
      "('Apple', False, 666, 25.25)\n",
      "<class 'tuple'>\n"
     ]
    }
   ],
   "source": [
    "multi_tuple = (\"Apple\", False, 666, 25.25)\n",
    "print(multi_tuple)\n",
    "print(type(multi_tuple))"
   ]
  },
  {
   "cell_type": "markdown",
   "metadata": {},
   "source": [
    "![divider](divider.png)\n",
    "### Lists"
   ]
  },
  {
   "cell_type": "markdown",
   "metadata": {},
   "source": [
    "__Composite Nature:__ List is a very useful composite data structure meaning it can hold multiple types of data. You can also call it a data sequence. <br> \n",
    "__Index:__ Unlike dictionaries lists have an index order. This means every element inside a list has an index and this doesn’t change unless you change it. It’s important to note that indexing for lists starts with 0 (zero). <br>\n",
    "__Mutability:__ Lists are also mutable and this means you can add and remove their elements as you wish. \n",
    "\n",
    "| Function / Method | Explanation |\n",
    "| --       | --          |\n",
    "| .append()| used for adding elements to a list\n",
    "| .insert()| used for inserting element to a particular index of the list\n",
    "|.index()  |used to show the index of an element\n",
    "|.clear()  |clears all the elements of the list\n",
    "|.remove() |used for removing an element of the list\n",
    "|.reverse()|reverses the order inside the list\n",
    "|.count()  | used for counting how many elements there are in the list\n",
    "|sum()     | sums all the elements in the list\n",
    "|min()     |shows the element with lowest value in the list\n",
    "|max()     |shows the element with highest value in the list"
   ]
  },
  {
   "cell_type": "code",
   "execution_count": 30,
   "metadata": {},
   "outputs": [
    {
     "data": {
      "text/plain": [
       "'Orange'"
      ]
     },
     "execution_count": 30,
     "metadata": {},
     "output_type": "execute_result"
    }
   ],
   "source": [
    "shopping_list[0]"
   ]
  },
  {
   "cell_type": "code",
   "execution_count": 31,
   "metadata": {},
   "outputs": [
    {
     "data": {
      "text/plain": [
       "'Meat'"
      ]
     },
     "execution_count": 31,
     "metadata": {},
     "output_type": "execute_result"
    }
   ],
   "source": [
    "shopping_list[2]"
   ]
  },
  {
   "cell_type": "code",
   "execution_count": 32,
   "metadata": {},
   "outputs": [
    {
     "name": "stdout",
     "output_type": "stream",
     "text": [
      "False\n"
     ]
    }
   ],
   "source": [
    "print(multi_list[1])"
   ]
  },
  {
   "cell_type": "code",
   "execution_count": 33,
   "metadata": {},
   "outputs": [
    {
     "data": {
      "text/plain": [
       "'Meat'"
      ]
     },
     "execution_count": 33,
     "metadata": {},
     "output_type": "execute_result"
    }
   ],
   "source": [
    "# Reverse Indexing\n",
    "shopping_list[-2]"
   ]
  },
  {
   "cell_type": "code",
   "execution_count": 34,
   "metadata": {},
   "outputs": [
    {
     "name": "stdout",
     "output_type": "stream",
     "text": [
      "['Orange', 'Bread', 'Meat', 'Milk', 'Pasta']\n"
     ]
    }
   ],
   "source": [
    "# .append()\n",
    "shopping_list.append(\"Pasta\")\n",
    "print(shopping_list)"
   ]
  },
  {
   "cell_type": "code",
   "execution_count": 35,
   "metadata": {},
   "outputs": [
    {
     "name": "stdout",
     "output_type": "stream",
     "text": [
      "['Water', 'Orange', 'Bread', 'Meat', 'Milk', 'Pasta']\n"
     ]
    }
   ],
   "source": [
    "# .insert()\n",
    "shopping_list.insert(0, \"Water\")\n",
    "print(shopping_list)"
   ]
  },
  {
   "cell_type": "code",
   "execution_count": 36,
   "metadata": {},
   "outputs": [
    {
     "data": {
      "text/plain": [
       "5"
      ]
     },
     "execution_count": 36,
     "metadata": {},
     "output_type": "execute_result"
    }
   ],
   "source": [
    "# .index()\n",
    "shopping_list.index(\"Pasta\")"
   ]
  },
  {
   "cell_type": "code",
   "execution_count": 37,
   "metadata": {},
   "outputs": [
    {
     "name": "stdout",
     "output_type": "stream",
     "text": [
      "['Water', 'Orange', 'Bread', 'Meat', 'Milk']\n"
     ]
    }
   ],
   "source": [
    "# .remove()\n",
    "shopping_list.remove(\"Pasta\")\n",
    "print(shopping_list)"
   ]
  },
  {
   "cell_type": "code",
   "execution_count": 38,
   "metadata": {},
   "outputs": [
    {
     "name": "stdout",
     "output_type": "stream",
     "text": [
      "['Milk', 'Meat', 'Bread', 'Orange', 'Water']\n"
     ]
    }
   ],
   "source": [
    "# .reverse()\n",
    "shopping_list.reverse()\n",
    "print(shopping_list)"
   ]
  },
  {
   "cell_type": "code",
   "execution_count": 39,
   "metadata": {},
   "outputs": [
    {
     "name": "stdout",
     "output_type": "stream",
     "text": [
      "2\n"
     ]
    }
   ],
   "source": [
    "# .count()\n",
    "numbers_list = [1,3,6,1,8,2,7,2,11,8,13]\n",
    "print(numbers_list.count(1))"
   ]
  },
  {
   "cell_type": "code",
   "execution_count": 40,
   "metadata": {},
   "outputs": [
    {
     "data": {
      "text/plain": [
       "62"
      ]
     },
     "execution_count": 40,
     "metadata": {},
     "output_type": "execute_result"
    }
   ],
   "source": [
    "# .sum()\n",
    "sum(numbers_list)"
   ]
  },
  {
   "cell_type": "code",
   "execution_count": 41,
   "metadata": {},
   "outputs": [
    {
     "data": {
      "text/plain": [
       "1"
      ]
     },
     "execution_count": 41,
     "metadata": {},
     "output_type": "execute_result"
    }
   ],
   "source": [
    "# .min()\n",
    "min(numbers_list)"
   ]
  },
  {
   "cell_type": "code",
   "execution_count": 42,
   "metadata": {},
   "outputs": [
    {
     "data": {
      "text/plain": [
       "13"
      ]
     },
     "execution_count": 42,
     "metadata": {},
     "output_type": "execute_result"
    }
   ],
   "source": [
    "# .max()\n",
    "max(numbers_list)"
   ]
  },
  {
   "cell_type": "markdown",
   "metadata": {},
   "source": [
    "![divider](divider.png)\n",
    "### Tuples\n",
    "\n",
    "Tuples are very similar to lists except a main difference: mutability. Tuples are immutable meaning they can not be changed unlike lists."
   ]
  },
  {
   "cell_type": "code",
   "execution_count": 43,
   "metadata": {},
   "outputs": [
    {
     "name": "stdout",
     "output_type": "stream",
     "text": [
      "('Oslo', 'Stockholm', 44, True)\n"
     ]
    }
   ],
   "source": [
    "my_tuple = (\"Oslo\", \"Stockholm\", 44, True)\n",
    "print(my_tuple)"
   ]
  },
  {
   "cell_type": "code",
   "execution_count": 44,
   "metadata": {},
   "outputs": [
    {
     "name": "stdout",
     "output_type": "stream",
     "text": [
      "True\n"
     ]
    }
   ],
   "source": [
    "# Indexing\n",
    "print(my_tuple[3])"
   ]
  },
  {
   "cell_type": "code",
   "execution_count": 45,
   "metadata": {},
   "outputs": [
    {
     "name": "stdout",
     "output_type": "stream",
     "text": [
      "True\n"
     ]
    }
   ],
   "source": [
    "# Reverse Indexing\n",
    "print(my_tuple[-1])"
   ]
  },
  {
   "cell_type": "code",
   "execution_count": 46,
   "metadata": {},
   "outputs": [
    {
     "name": "stdout",
     "output_type": "stream",
     "text": [
      "0\n"
     ]
    }
   ],
   "source": [
    "# .index()\n",
    "print(my_tuple.index(\"Oslo\"))"
   ]
  },
  {
   "cell_type": "code",
   "execution_count": 47,
   "metadata": {},
   "outputs": [
    {
     "data": {
      "text/plain": [
       "2"
      ]
     },
     "execution_count": 47,
     "metadata": {},
     "output_type": "execute_result"
    }
   ],
   "source": [
    "# .count()\n",
    "numbers_tuple = (1,3,6,1,8,2,7,2,11,8,13)\n",
    "numbers_tuple.count(1)"
   ]
  },
  {
   "cell_type": "code",
   "execution_count": 48,
   "metadata": {},
   "outputs": [
    {
     "data": {
      "text/plain": [
       "62"
      ]
     },
     "execution_count": 48,
     "metadata": {},
     "output_type": "execute_result"
    }
   ],
   "source": [
    "# sum()\n",
    "sum(numbers_tuple)"
   ]
  },
  {
   "cell_type": "code",
   "execution_count": 49,
   "metadata": {},
   "outputs": [
    {
     "data": {
      "text/plain": [
       "1"
      ]
     },
     "execution_count": 49,
     "metadata": {},
     "output_type": "execute_result"
    }
   ],
   "source": [
    "# .min()\n",
    "min(numbers_tuple)"
   ]
  },
  {
   "cell_type": "code",
   "execution_count": 50,
   "metadata": {},
   "outputs": [
    {
     "data": {
      "text/plain": [
       "13"
      ]
     },
     "execution_count": 50,
     "metadata": {},
     "output_type": "execute_result"
    }
   ],
   "source": [
    "# .max()\n",
    "max(numbers_tuple)"
   ]
  },
  {
   "cell_type": "markdown",
   "metadata": {},
   "source": [
    "![divider](divider.png)\n",
    "### Dictionaries\n",
    "\n",
    "__Structure:__ A dictionary consists of key-value pairs that are separated from other key-value pairs by commas. Inside the key-value pair, key and value is separated by a colon (:). First few examples below will clearly demonstrate this.<br>\n",
    "__Composite Nature:__ List is a very useful composite data structure meaning it can hold multiple types of data. You can also call it a data sequence.<br>\n",
    "__No order:__ Unlike lists and tuples there is no order or indexing inside a dictionary. You can think of key-value pairs inside a dictionary as if they are mixed in a bag. <br>\n",
    "\n",
    "| Function / Method | Explanation |\n",
    "| --       | --          |\n",
    "|.keys()   | used to show the keys in a dictionary\n",
    "|.items()  | used to create a key-value tuple\n",
    "|.get()    | used to return the value of a key\n",
    "|.clear()  | clears the entire dictionary\n",
    "|.copy()   | used to copy a dictionary\n",
    "| len()    | used to get the length of a dictionary\n",
    "| min()    | used to identify the key with the highest value\n",
    "| max()    | used to identify the key with the lowest value"
   ]
  },
  {
   "cell_type": "code",
   "execution_count": 51,
   "metadata": {},
   "outputs": [
    {
     "name": "stdout",
     "output_type": "stream",
     "text": [
      "{'Tom': 32, 'Jess': 29, 'Pete': 18}\n"
     ]
    }
   ],
   "source": [
    "ages_dict = {\"Tom\": 32, \"Jess\": 29, \"Pete\": 18}\n",
    "print(ages_dict)"
   ]
  },
  {
   "cell_type": "code",
   "execution_count": 52,
   "metadata": {},
   "outputs": [
    {
     "name": "stdout",
     "output_type": "stream",
     "text": [
      "dict_keys(['Tom', 'Jess', 'Pete'])\n"
     ]
    }
   ],
   "source": [
    "# .keys()\n",
    "print(ages_dict.keys())"
   ]
  },
  {
   "cell_type": "code",
   "execution_count": 53,
   "metadata": {},
   "outputs": [
    {
     "name": "stdout",
     "output_type": "stream",
     "text": [
      "dict_items([('Tom', 32), ('Jess', 29), ('Pete', 18)])\n"
     ]
    }
   ],
   "source": [
    "# .items()\n",
    "print(ages_dict.items())"
   ]
  },
  {
   "cell_type": "code",
   "execution_count": 54,
   "metadata": {},
   "outputs": [
    {
     "name": "stdout",
     "output_type": "stream",
     "text": [
      "32\n"
     ]
    }
   ],
   "source": [
    "# .get()\n",
    "print(ages_dict.get(\"Tom\"))"
   ]
  },
  {
   "cell_type": "code",
   "execution_count": 55,
   "metadata": {},
   "outputs": [
    {
     "name": "stdout",
     "output_type": "stream",
     "text": [
      "{'Tom': 32, 'Jess': 29, 'Pete': 18}\n"
     ]
    }
   ],
   "source": [
    "# .copy()\n",
    "copy_dict = ages_dict.copy()\n",
    "print(copy_dict)"
   ]
  },
  {
   "cell_type": "code",
   "execution_count": 56,
   "metadata": {},
   "outputs": [
    {
     "data": {
      "text/plain": [
       "3"
      ]
     },
     "execution_count": 56,
     "metadata": {},
     "output_type": "execute_result"
    }
   ],
   "source": [
    "# len()\n",
    "len(copy_dict)"
   ]
  },
  {
   "cell_type": "code",
   "execution_count": 57,
   "metadata": {},
   "outputs": [
    {
     "data": {
      "text/plain": [
       "18"
      ]
     },
     "execution_count": 57,
     "metadata": {},
     "output_type": "execute_result"
    }
   ],
   "source": [
    "# min()\n",
    "ages_dict_reverse = {32:\"Tom\", 29:\"Jess\",18:\"Pete\"}\n",
    "min(ages_dict_reverse)"
   ]
  },
  {
   "cell_type": "code",
   "execution_count": 58,
   "metadata": {},
   "outputs": [
    {
     "data": {
      "text/plain": [
       "32"
      ]
     },
     "execution_count": 58,
     "metadata": {},
     "output_type": "execute_result"
    }
   ],
   "source": [
    "# min()\n",
    "max(ages_dict_reverse)"
   ]
  },
  {
   "cell_type": "markdown",
   "metadata": {},
   "source": [
    "![divider](divider.png)\n",
    "### Strings\n",
    "\n",
    "Strings are everywhere:\n",
    "\n",
    "- web crawling\n",
    "- email data \n",
    "- financial reports \n",
    "- social media \n",
    "- books\n",
    "- documents\n",
    "- user input\n",
    "- sales reports\n",
    "- economic reports\n",
    "\n",
    "To cope with such ubiquitous and special type of data, one needs specials skills and a comprehensive toolkit:\n",
    "\n",
    "| Function / Method | Explanation |\n",
    "|          --       | --          |\n",
    "|.replace()| used to change substrings in a string\n",
    "|.lower()| used to change a string’s characters to lower characters\n",
    "|.upper()| used to change a string’s characters to capital letters\n",
    "|.capitalize()| used to convert first character of the string to |capital letter.\n",
    "|.startswith()| used to check if the string starts with a specified |letter\n",
    "|.endswith()| used to check if the string ends with a specified letter\n",
    "|.join()| a very useful string method used to join a specified string |to the string\n",
    "|.split()| another very useful method used to split a string based on the specified character(s)\n",
    "|.strip()| used to strip a string of specified characters including empty spaces\n",
    "|.index()| used to identify a character’s index in a string\n",
    "|.find()| also used to find a character’s index in a string. find and index are very similar with a small difference which we will explain.\n",
    "|.count()| used to count a sub-string in a string\n",
    "|type()| function used to identify type of the data, can be used on strings."
   ]
  },
  {
   "cell_type": "code",
   "execution_count": 59,
   "metadata": {},
   "outputs": [
    {
     "name": "stdout",
     "output_type": "stream",
     "text": [
      "A\n"
     ]
    }
   ],
   "source": [
    "# Indexing\n",
    "msg = \"A giant leap for mankind\"\n",
    "print(msg[0])"
   ]
  },
  {
   "cell_type": "code",
   "execution_count": 60,
   "metadata": {},
   "outputs": [
    {
     "name": "stdout",
     "output_type": "stream",
     "text": [
      "A+giant+leap+for+mankind\n"
     ]
    }
   ],
   "source": [
    "# .replace()\n",
    "msg = msg.replace(\" \", \"+\")\n",
    "print(msg)"
   ]
  },
  {
   "cell_type": "code",
   "execution_count": 61,
   "metadata": {},
   "outputs": [
    {
     "name": "stdout",
     "output_type": "stream",
     "text": [
      "A giant step for mankind\n"
     ]
    }
   ],
   "source": [
    "# .replace()\n",
    "msg = \"A giant leap for mankind\"\n",
    "msg = msg.replace(\"leap\", \"step\")\n",
    "print(msg)"
   ]
  },
  {
   "cell_type": "code",
   "execution_count": 62,
   "metadata": {},
   "outputs": [
    {
     "data": {
      "text/plain": [
       "'a giant step for mankind'"
      ]
     },
     "execution_count": 62,
     "metadata": {},
     "output_type": "execute_result"
    }
   ],
   "source": [
    "# .lower()\n",
    "msg.lower()"
   ]
  },
  {
   "cell_type": "code",
   "execution_count": 63,
   "metadata": {},
   "outputs": [
    {
     "data": {
      "text/plain": [
       "'A GIANT STEP FOR MANKIND'"
      ]
     },
     "execution_count": 63,
     "metadata": {},
     "output_type": "execute_result"
    }
   ],
   "source": [
    "# .upper()\n",
    "msg.upper()"
   ]
  },
  {
   "cell_type": "code",
   "execution_count": 64,
   "metadata": {},
   "outputs": [
    {
     "data": {
      "text/plain": [
       "'A giant leap for mankind'"
      ]
     },
     "execution_count": 64,
     "metadata": {},
     "output_type": "execute_result"
    }
   ],
   "source": [
    "# .capitalize()\n",
    "msg = \"a giant leap for mankind\"\n",
    "msg.capitalize()"
   ]
  },
  {
   "cell_type": "code",
   "execution_count": 65,
   "metadata": {},
   "outputs": [
    {
     "data": {
      "text/plain": [
       "False"
      ]
     },
     "execution_count": 65,
     "metadata": {},
     "output_type": "execute_result"
    }
   ],
   "source": [
    "# .startswith()\n",
    "msg = \"a giant leap for mankind\"\n",
    "msg.startswith(\"A\")"
   ]
  },
  {
   "cell_type": "code",
   "execution_count": 66,
   "metadata": {},
   "outputs": [
    {
     "data": {
      "text/plain": [
       "True"
      ]
     },
     "execution_count": 66,
     "metadata": {},
     "output_type": "execute_result"
    }
   ],
   "source": [
    "# .startswith()\n",
    "msg = \"A giant leap for mankind\"\n",
    "msg.startswith(\"A\")"
   ]
  },
  {
   "cell_type": "code",
   "execution_count": 67,
   "metadata": {},
   "outputs": [
    {
     "data": {
      "text/plain": [
       "True"
      ]
     },
     "execution_count": 67,
     "metadata": {},
     "output_type": "execute_result"
    }
   ],
   "source": [
    "\"a giant leap for mankind\".capitalize().startswith(\"A\")"
   ]
  },
  {
   "cell_type": "code",
   "execution_count": 68,
   "metadata": {},
   "outputs": [
    {
     "data": {
      "text/plain": [
       "True"
      ]
     },
     "execution_count": 68,
     "metadata": {},
     "output_type": "execute_result"
    }
   ],
   "source": [
    "# .endswith()\n",
    "\"a giant leap for mankind\".endswith(\"d\")"
   ]
  },
  {
   "cell_type": "code",
   "execution_count": 69,
   "metadata": {},
   "outputs": [
    {
     "data": {
      "text/plain": [
       "0"
      ]
     },
     "execution_count": 69,
     "metadata": {},
     "output_type": "execute_result"
    }
   ],
   "source": [
    "# .index()\n",
    "\"a giant leap for mankind\".index(\"a\")"
   ]
  },
  {
   "cell_type": "code",
   "execution_count": 70,
   "metadata": {},
   "outputs": [
    {
     "data": {
      "text/plain": [
       "23"
      ]
     },
     "execution_count": 70,
     "metadata": {},
     "output_type": "execute_result"
    }
   ],
   "source": [
    "# find()\n",
    "msg = \"a giant leap for mankind\"\n",
    "msg.find(\"d\")"
   ]
  },
  {
   "cell_type": "code",
   "execution_count": 71,
   "metadata": {},
   "outputs": [
    {
     "data": {
      "text/plain": [
       "-1"
      ]
     },
     "execution_count": 71,
     "metadata": {},
     "output_type": "execute_result"
    }
   ],
   "source": [
    "# find() | If not found, returns -1\n",
    "msg = \"a giant leap for mankind\"\n",
    "msg.find(\"X\")"
   ]
  },
  {
   "cell_type": "code",
   "execution_count": 72,
   "metadata": {},
   "outputs": [
    {
     "data": {
      "text/plain": [
       "4"
      ]
     },
     "execution_count": 72,
     "metadata": {},
     "output_type": "execute_result"
    }
   ],
   "source": [
    "# count()\n",
    "msg = \"a giant leap for mankind\"\n",
    "msg.count(\"a\")"
   ]
  },
  {
   "cell_type": "code",
   "execution_count": 73,
   "metadata": {},
   "outputs": [
    {
     "data": {
      "text/plain": [
       "0"
      ]
     },
     "execution_count": 73,
     "metadata": {},
     "output_type": "execute_result"
    }
   ],
   "source": [
    "# count()\n",
    "msg = \"a giant leap for mankind\"\n",
    "msg.count(\"X\")"
   ]
  },
  {
   "cell_type": "code",
   "execution_count": 74,
   "metadata": {},
   "outputs": [
    {
     "data": {
      "text/plain": [
       "str"
      ]
     },
     "execution_count": 74,
     "metadata": {},
     "output_type": "execute_result"
    }
   ],
   "source": [
    "# type\n",
    "type(\"a giant leap for mankind\")"
   ]
  },
  {
   "cell_type": "code",
   "execution_count": 75,
   "metadata": {},
   "outputs": [
    {
     "data": {
      "text/plain": [
       "24"
      ]
     },
     "execution_count": 75,
     "metadata": {},
     "output_type": "execute_result"
    }
   ],
   "source": [
    "# len()\n",
    "len(\"a giant leap for mankind\")"
   ]
  },
  {
   "cell_type": "code",
   "execution_count": 76,
   "metadata": {},
   "outputs": [
    {
     "data": {
      "text/plain": [
       "['a', 'giant', 'leap', 'for', 'mankind']"
      ]
     },
     "execution_count": 76,
     "metadata": {},
     "output_type": "execute_result"
    }
   ],
   "source": [
    "# .split()\n",
    "\"a giant leap for mankind\".split()"
   ]
  },
  {
   "cell_type": "code",
   "execution_count": 77,
   "metadata": {},
   "outputs": [
    {
     "data": {
      "text/plain": [
       "'a giant leap for mankind'"
      ]
     },
     "execution_count": 77,
     "metadata": {},
     "output_type": "execute_result"
    }
   ],
   "source": [
    "# .strip()\n",
    "msg = \"      a giant leap for mankind              \"\n",
    "msg.strip()"
   ]
  },
  {
   "cell_type": "code",
   "execution_count": 78,
   "metadata": {},
   "outputs": [
    {
     "name": "stdout",
     "output_type": "stream",
     "text": [
      "a | giant | leap | for | mankind\n"
     ]
    }
   ],
   "source": [
    "# .join() \n",
    "strings_list = [\"a\", \"giant\", \"leap\", \"for\", \"mankind\"]\n",
    "msg = \" | \".join(strings_list)\n",
    "print(msg)"
   ]
  },
  {
   "cell_type": "markdown",
   "metadata": {},
   "source": [
    "![divider](divider.png)\n",
    "### Functions and Methods\n",
    "\n",
    "#### len() function\n",
    "\n",
    "* tells the length of a string\n",
    "* and lists, tuples\n",
    "* and dictionaries"
   ]
  },
  {
   "cell_type": "code",
   "execution_count": 79,
   "metadata": {},
   "outputs": [
    {
     "data": {
      "text/plain": [
       "5"
      ]
     },
     "execution_count": 79,
     "metadata": {},
     "output_type": "execute_result"
    }
   ],
   "source": [
    "numbers_list = [3, 33, 100, 1000, 5]\n",
    "len(numbers_list)"
   ]
  },
  {
   "cell_type": "code",
   "execution_count": 80,
   "metadata": {},
   "outputs": [
    {
     "data": {
      "text/plain": [
       "12"
      ]
     },
     "execution_count": 80,
     "metadata": {},
     "output_type": "execute_result"
    }
   ],
   "source": [
    "message = \"Hello World!\"\n",
    "len(message)"
   ]
  },
  {
   "cell_type": "code",
   "execution_count": 81,
   "metadata": {},
   "outputs": [
    {
     "data": {
      "text/plain": [
       "3"
      ]
     },
     "execution_count": 81,
     "metadata": {},
     "output_type": "execute_result"
    }
   ],
   "source": [
    "tuple = (\"4k\", \"1080p\", \"720p\")\n",
    "len(tuple)"
   ]
  },
  {
   "cell_type": "code",
   "execution_count": 82,
   "metadata": {},
   "outputs": [
    {
     "data": {
      "text/plain": [
       "2"
      ]
     },
     "execution_count": 82,
     "metadata": {},
     "output_type": "execute_result"
    }
   ],
   "source": [
    "dict = {\"rainy\": 95, \"sunny\": 270}\n",
    "len(dict)"
   ]
  },
  {
   "cell_type": "markdown",
   "metadata": {},
   "source": [
    "#### .sort() method\n",
    "\n",
    "It works on the lists"
   ]
  },
  {
   "cell_type": "code",
   "execution_count": 83,
   "metadata": {},
   "outputs": [
    {
     "name": "stdout",
     "output_type": "stream",
     "text": [
      "[3, 5, 33, 100, 1000]\n"
     ]
    }
   ],
   "source": [
    "numbers_list = [3, 33, 100, 1000, 5]\n",
    "numbers_list.sort()\n",
    "print(numbers_list)"
   ]
  },
  {
   "cell_type": "code",
   "execution_count": 84,
   "metadata": {},
   "outputs": [
    {
     "name": "stdout",
     "output_type": "stream",
     "text": [
      "['goose', 'ground hog', 'porcupine']\n"
     ]
    }
   ],
   "source": [
    "animals_list = [\"goose\", \"porcupine\", \"ground hog\"]\n",
    "animals_list.sort()\n",
    "print(animals_list)"
   ]
  },
  {
   "cell_type": "code",
   "execution_count": 85,
   "metadata": {},
   "outputs": [
    {
     "name": "stdout",
     "output_type": "stream",
     "text": [
      "['Serbia', 'Germany', 'France', 'Albania']\n"
     ]
    }
   ],
   "source": [
    "country_list = [\"Germany\", \"France\", \"Albania\", \"Serbia\"]\n",
    "country_list.sort(reverse = True)\n",
    "print(country_list)"
   ]
  },
  {
   "cell_type": "markdown",
   "metadata": {},
   "source": [
    "#### .pop() method\n",
    "\n",
    "It works on the lists and dictionaries, removes last element and returns the removed element."
   ]
  },
  {
   "cell_type": "code",
   "execution_count": 86,
   "metadata": {},
   "outputs": [
    {
     "name": "stdout",
     "output_type": "stream",
     "text": [
      "Serbia\n",
      "['Germany', 'France', 'Albania']\n"
     ]
    }
   ],
   "source": [
    "country_list = [\"Germany\", \"France\", \"Albania\", \"Serbia\"]\n",
    "removed_element = country_list.pop()\n",
    "print(removed_element)\n",
    "print(country_list)"
   ]
  },
  {
   "cell_type": "code",
   "execution_count": 87,
   "metadata": {},
   "outputs": [
    {
     "name": "stdout",
     "output_type": "stream",
     "text": [
      "France\n",
      "['Germany', 'Albania', 'Serbia']\n"
     ]
    }
   ],
   "source": [
    "# poping by index\n",
    "country_list = [\"Germany\", \"France\", \"Albania\", \"Serbia\"]\n",
    "removed_element = country_list.pop(1)\n",
    "print(removed_element)\n",
    "print(country_list)"
   ]
  },
  {
   "cell_type": "code",
   "execution_count": 88,
   "metadata": {},
   "outputs": [
    {
     "name": "stdout",
     "output_type": "stream",
     "text": [
      "{'Tom': 32, 'Pete': 18} removed:  29\n"
     ]
    }
   ],
   "source": [
    "# on dictionaries:\n",
    "ages_dict = {\"Tom\": 32, \"Jess\": 29, \"Pete\": 18}\n",
    "removed_element = ages_dict.pop(\"Jess\")\n",
    "print(ages_dict, \"removed: \", removed_element)"
   ]
  },
  {
   "cell_type": "markdown",
   "metadata": {},
   "source": [
    "#### input() function\n",
    "\n",
    "It takes user input into the program."
   ]
  },
  {
   "cell_type": "code",
   "execution_count": 89,
   "metadata": {},
   "outputs": [
    {
     "name": "stdout",
     "output_type": "stream",
     "text": [
      "Please enter your name.Emre\n"
     ]
    }
   ],
   "source": [
    "name = input(\"Please enter your name.\")"
   ]
  },
  {
   "cell_type": "code",
   "execution_count": 90,
   "metadata": {},
   "outputs": [
    {
     "name": "stdout",
     "output_type": "stream",
     "text": [
      "What is your job?Data Scientist\n"
     ]
    }
   ],
   "source": [
    "job = input(\"What is your job?\")"
   ]
  },
  {
   "cell_type": "code",
   "execution_count": 91,
   "metadata": {},
   "outputs": [
    {
     "name": "stdout",
     "output_type": "stream",
     "text": [
      "Welcome Emre the Data Scientist\n"
     ]
    }
   ],
   "source": [
    "print(\"Welcome\", name, \"the\", job)"
   ]
  },
  {
   "cell_type": "markdown",
   "metadata": {},
   "source": [
    "#### range() function\n",
    "\n",
    "Range is a function to create a range of numerics. <br>\n",
    "It has 3 parameters: __range(start, stop, step)__"
   ]
  },
  {
   "cell_type": "code",
   "execution_count": 92,
   "metadata": {},
   "outputs": [
    {
     "data": {
      "text/plain": [
       "[0, 1, 2, 3, 4]"
      ]
     },
     "execution_count": 92,
     "metadata": {},
     "output_type": "execute_result"
    }
   ],
   "source": [
    "list(range(5))"
   ]
  },
  {
   "cell_type": "code",
   "execution_count": 93,
   "metadata": {},
   "outputs": [
    {
     "data": {
      "text/plain": [
       "[0, 2, 4]"
      ]
     },
     "execution_count": 93,
     "metadata": {},
     "output_type": "execute_result"
    }
   ],
   "source": [
    "list(range(0,5,2))"
   ]
  },
  {
   "cell_type": "code",
   "execution_count": 94,
   "metadata": {},
   "outputs": [
    {
     "data": {
      "text/plain": [
       "[0, 3, 6, 9, 12]"
      ]
     },
     "execution_count": 94,
     "metadata": {},
     "output_type": "execute_result"
    }
   ],
   "source": [
    "list(range(0,15,3))"
   ]
  },
  {
   "cell_type": "code",
   "execution_count": 95,
   "metadata": {},
   "outputs": [
    {
     "data": {
      "text/plain": [
       "[10, 9, 8, 7, 6, 5, 4, 3, 2, 1, 0, -1, -2, -3, -4, -5, -6, -7, -8, -9]"
      ]
     },
     "execution_count": 95,
     "metadata": {},
     "output_type": "execute_result"
    }
   ],
   "source": [
    "list(range(10,-10,-1))"
   ]
  },
  {
   "cell_type": "code",
   "execution_count": 96,
   "metadata": {},
   "outputs": [
    {
     "data": {
      "text/plain": [
       "[10, 7, 4, 1, -2, -5, -8]"
      ]
     },
     "execution_count": 96,
     "metadata": {},
     "output_type": "execute_result"
    }
   ],
   "source": [
    "list(range(10,-10,-3))"
   ]
  },
  {
   "cell_type": "markdown",
   "metadata": {},
   "source": [
    "![divider](divider.png)\n",
    "### Error Handling\n",
    "\n",
    "The most common errors Pythons may throw:\n",
    "\n",
    "* NameError\n",
    "* SyntaxError\n",
    "* TypeError\n",
    "* IndexError\n",
    "* KeyError\n",
    "* AttributeError / ValueError"
   ]
  },
  {
   "cell_type": "markdown",
   "metadata": {},
   "source": [
    "__NameError__<br>\n",
    "You’ll get a NameError when an object can’t be found in Python."
   ]
  },
  {
   "cell_type": "code",
   "execution_count": 97,
   "metadata": {},
   "outputs": [
    {
     "ename": "NameError",
     "evalue": "name 'hello_world' is not defined",
     "output_type": "error",
     "traceback": [
      "Traceback \u001b[0;36m(most recent call last)\u001b[0m:\n",
      "\u001b[0;36m  File \u001b[0;32m\"<ipython-input-97-3ad784c97fd8>\"\u001b[0;36m, line \u001b[0;32m2\u001b[0;36m, in \u001b[0;35m<module>\u001b[0;36m\u001b[0m\n\u001b[0;31m    print(hello_world)\u001b[0m\n",
      "\u001b[0;31mNameError\u001b[0m\u001b[0;31m:\u001b[0m name 'hello_world' is not defined\n"
     ]
    }
   ],
   "source": [
    "message = \"Hello World!\"\n",
    "print(hello_world)"
   ]
  },
  {
   "cell_type": "markdown",
   "metadata": {},
   "source": [
    "__SyntaxError__<br>\n",
    "You’ll get a SyntaxError when you make a syntax error in Python.<br> It can be a missing quote or parenthesis."
   ]
  },
  {
   "cell_type": "code",
   "execution_count": null,
   "metadata": {},
   "outputs": [],
   "source": [
    "message = \"Hello World!\n",
    "print(hello_world)"
   ]
  },
  {
   "cell_type": "markdown",
   "metadata": {},
   "source": [
    "__TypeError__<br>\n",
    "You’ll get a TypeError when you apply an operation or function to the wrong type of data, such as applying arithmetic operations to strings."
   ]
  },
  {
   "cell_type": "code",
   "execution_count": null,
   "metadata": {},
   "outputs": [],
   "source": [
    "message = \"Hello World!\"\n",
    "print(message + 5)"
   ]
  },
  {
   "cell_type": "markdown",
   "metadata": {},
   "source": [
    "__IndexError__<br>\n",
    "You’ll get an IndexError when you try to reach an index outside the limits of your data."
   ]
  },
  {
   "cell_type": "code",
   "execution_count": null,
   "metadata": {},
   "outputs": [],
   "source": [
    "message = \"Hello World!\"\n",
    "print(message[25])"
   ]
  },
  {
   "cell_type": "markdown",
   "metadata": {},
   "source": [
    "__KeyError__<br>\n",
    "KeyError is like IndexError for dictionaries. If you try to reach a key that’s not included in your dictionary, you’ll get a KeyError"
   ]
  },
  {
   "cell_type": "code",
   "execution_count": null,
   "metadata": {},
   "outputs": [],
   "source": [
    "fruit_dict = {\"Apple\": 5, \"Mango\": 7}\n",
    "print (fruit_dict[\"Lemon\"])"
   ]
  },
  {
   "cell_type": "markdown",
   "metadata": {},
   "source": [
    "__AttributeError__<br>\n",
    "Attribute error occurs when you try to use an attribute or method that doesn’t apply to the specific data you’re working on. <br>For instance, trying to apply .reverse() method on a string."
   ]
  },
  {
   "cell_type": "code",
   "execution_count": null,
   "metadata": {},
   "outputs": [],
   "source": [
    "numeric_data = 11.79011\n",
    "numeric_data.capitalize()"
   ]
  },
  {
   "cell_type": "markdown",
   "metadata": {},
   "source": [
    "__ValueError__<br>\n",
    "Value error occurs when you apply a function to a data type correctly but the content is not suitable for that operation.\n",
    "\n",
    "For example, you can apply int() to a string of numbers such as: \n",
    "int(“2000”) <br>\n",
    "but you can’t convert letters to integers so following won’t work: int(“two thousand”)"
   ]
  },
  {
   "cell_type": "code",
   "execution_count": null,
   "metadata": {},
   "outputs": [],
   "source": [
    "door_number = \"11A\"\n",
    "int(door_number)"
   ]
  },
  {
   "cell_type": "markdown",
   "metadata": {},
   "source": [
    "![divider](divider.png)\n",
    "### Defining Functions\n",
    "\n",
    "So far we covered some python functions, which come very handy. <br>\n",
    "Yet, we may need custom made functions for our custom problems. In that case we need to write functions in Python.\n",
    "\n",
    "Functions in python is defined by ___def___ <br>\n",
    "Then the name of the functions follows: ___def my_function___<br>\n",
    "Third, a paranthesis is added for the any possible function parameters:___def my_function()___ <br>\n",
    "A colon (:) is added to start the function body: ___def my_function():___ <br>\n",
    "The function body is added: <br> \n",
    "___def hello_world(): <br>\n",
    "$\\;\\;\\;\\;\\;\\;$ print(“Hello World!”)___"
   ]
  },
  {
   "cell_type": "code",
   "execution_count": null,
   "metadata": {},
   "outputs": [],
   "source": [
    "def hello_world():\n",
    "    print(\"Hello World!\")\n",
    "\n",
    "hello_world()"
   ]
  },
  {
   "cell_type": "code",
   "execution_count": null,
   "metadata": {},
   "outputs": [],
   "source": [
    "def greeter():\n",
    "    name = input(\"Please enter your name.\")\n",
    "    job = input(\"What is your job?\")\n",
    "    print(\"Welcome\", name, \"the\", job)\n",
    "    \n",
    "greeter()"
   ]
  },
  {
   "cell_type": "markdown",
   "metadata": {},
   "source": [
    "Now let's do an example with parameter"
   ]
  },
  {
   "cell_type": "code",
   "execution_count": null,
   "metadata": {},
   "outputs": [],
   "source": [
    "def divide_by_100(x):\n",
    "    print(x / 100)\n",
    "    \n",
    "divide_by_100(2000)\n",
    "divide_by_100(100000)"
   ]
  },
  {
   "cell_type": "markdown",
   "metadata": {},
   "source": [
    "Now let's do an example with parameter with a default value"
   ]
  },
  {
   "cell_type": "code",
   "execution_count": null,
   "metadata": {},
   "outputs": [],
   "source": [
    "def cool_language(x = \"Python\"):\n",
    "    print(x, \"is a cool language\")\n",
    "    \n",
    "cool_language()\n",
    "cool_language(\"R\")\n",
    "cool_language(\"C\")"
   ]
  },
  {
   "cell_type": "markdown",
   "metadata": {},
   "source": [
    "All our functions so far had printed output. <br>\n",
    "What if we just want them to return a value. <br>\n",
    "We do that by _return_ statement:"
   ]
  },
  {
   "cell_type": "code",
   "execution_count": null,
   "metadata": {},
   "outputs": [],
   "source": [
    "def divide_by_100(x):\n",
    "    return x / 100\n",
    "    \n",
    "my_answer = divide_by_100(2000)\n",
    "print(my_answer)"
   ]
  },
  {
   "cell_type": "markdown",
   "metadata": {},
   "source": [
    "![divider](divider.png)\n",
    "\n",
    "### Slicing\n",
    "\n",
    "_Slicing_ is very similar to the concept of _indexing_, which we already covered. <br>\n",
    "You may think of it as a more complex form of indexing.\n",
    "\n",
    "Let us say we have the list of number_list = [1,2,3,4,5] <br>\n",
    "we already know __number_list[0]__ will give us __1__ <br>\n",
    "By slicing the list as __number_list[0:3]__, we can get __[1,2,3]__"
   ]
  },
  {
   "cell_type": "code",
   "execution_count": null,
   "metadata": {},
   "outputs": [],
   "source": [
    "number_list = [1,2,3,4,5]\n",
    "print(number_list[0])\n",
    "print(number_list[0:3])"
   ]
  },
  {
   "cell_type": "markdown",
   "metadata": {},
   "source": [
    "As indexing applies to strings too, so the slicing does:"
   ]
  },
  {
   "cell_type": "code",
   "execution_count": null,
   "metadata": {},
   "outputs": [],
   "source": [
    "message = \"Good bye cruel world\"\n",
    "print(message[0])\n",
    "print(message[0:4])"
   ]
  },
  {
   "cell_type": "markdown",
   "metadata": {},
   "source": [
    "The syntax of slicing is similar to _range()_ function's: [start:end:step] <br>\n",
    "We try some combinations and see:"
   ]
  },
  {
   "cell_type": "code",
   "execution_count": null,
   "metadata": {},
   "outputs": [],
   "source": [
    "number_list = list(range(30,100,10))\n",
    "print(number_list)\n",
    "print(number_list[2:6])"
   ]
  },
  {
   "cell_type": "code",
   "execution_count": null,
   "metadata": {},
   "outputs": [],
   "source": [
    "number_list =  list(range(10))\n",
    "print(number_list)               #list itself\n",
    "print(number_list[2:6:2])        #list from 2nd index to the 6h by steps of 2\n",
    "print(number_list[0:8:3])        #index 0 to 8 by steps of 3\n",
    "print(number_list[:-2])          #everything up to the last two elements\n",
    "print(number_list[:-2:2])        #everything up to the last two elements by steps of 2\n",
    "print(number_list[::4])          #everything start to finish with steps of 4\n",
    "print(number_list[::-1])         #reversing the list"
   ]
  },
  {
   "cell_type": "markdown",
   "metadata": {},
   "source": [
    "![divider](divider.png)\n",
    "\n",
    "### Python Operators\n",
    "\n",
    "Very important and loaded final section of the tutorial, brace yourselves :) "
   ]
  },
  {
   "cell_type": "code",
   "execution_count": null,
   "metadata": {},
   "outputs": [],
   "source": [
    "# Assignment operators: \n",
    "x = 5\n",
    "y = \"five\"\n",
    "z = True\n",
    "\n",
    "print(x,y,z)"
   ]
  },
  {
   "cell_type": "code",
   "execution_count": null,
   "metadata": {},
   "outputs": [],
   "source": [
    "# Arithmetic operators:\n",
    "\n",
    "print(5 + 5)\n",
    "print(22 * 12)\n",
    "print(13 % 2)\n",
    "print(17 / 4)\n",
    "print(17 // 4)\n"
   ]
  },
  {
   "cell_type": "code",
   "execution_count": null,
   "metadata": {},
   "outputs": [],
   "source": [
    "# Relational operators:\n",
    "# Backbone of if statements\n",
    "\n",
    "x = 5\n",
    "print(x == 6)\n",
    "print(4 < x)\n",
    "print(x > 13)\n",
    "print(x != 113)"
   ]
  },
  {
   "cell_type": "code",
   "execution_count": null,
   "metadata": {},
   "outputs": [],
   "source": [
    "# Membership operators:\n",
    "# Also used in if statements:\n",
    "\n",
    "number_list = list(range(10))\n",
    "print(0 in number_list)\n",
    "print(9 in number_list)\n",
    "print(10 in number_list)\n",
    "\n",
    "print()\n",
    "\n",
    "message = \"Hello World!\"\n",
    "print(\"Hello\" in message)\n",
    "print(\"!\" in message)\n",
    "print(\"farewell\" in message)"
   ]
  },
  {
   "cell_type": "code",
   "execution_count": null,
   "metadata": {},
   "outputs": [],
   "source": [
    "# Logical Operators\n",
    "print(True and True)\n",
    "print(True or True)\n",
    "print(False and False)\n",
    "print(False or False)\n",
    "print(True or False)\n",
    "print(True and False)\n",
    "print(not True)"
   ]
  },
  {
   "cell_type": "code",
   "execution_count": null,
   "metadata": {},
   "outputs": [],
   "source": [
    "# Logical Operators\n",
    "x = 5\n",
    "\n",
    "print(x == 6 and 4 < x)\n",
    "print(4 < x or x != 113)\n",
    "print(not 4 < x)"
   ]
  },
  {
   "cell_type": "markdown",
   "metadata": {},
   "source": [
    "![divider](divider.png)\n",
    "### End of Tutorial\n",
    "### Thanks for following"
   ]
  }
 ],
 "metadata": {
  "kernelspec": {
   "display_name": "Python 3 (Spyder)",
   "language": "python3",
   "name": "python3"
  },
  "language_info": {
   "codemirror_mode": {
    "name": "ipython",
    "version": 3
   },
   "file_extension": ".py",
   "mimetype": "text/x-python",
   "name": "python",
   "nbconvert_exporter": "python",
   "pygments_lexer": "ipython3",
   "version": "3.7.6"
  }
 },
 "nbformat": 4,
 "nbformat_minor": 4
}
